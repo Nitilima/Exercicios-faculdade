{
  "nbformat": 4,
  "nbformat_minor": 0,
  "metadata": {
    "colab": {
      "name": "Matemática computacional",
      "provenance": [],
      "authorship_tag": "ABX9TyPwidtSvzlUKIOk1YRzDkLy",
      "include_colab_link": true
    },
    "kernelspec": {
      "name": "python3",
      "display_name": "Python 3"
    },
    "language_info": {
      "name": "python"
    }
  },
  "cells": [
    {
      "cell_type": "markdown",
      "metadata": {
        "id": "view-in-github",
        "colab_type": "text"
      },
      "source": [
        "<a href=\"https://colab.research.google.com/github/Nitilima/pythonProject/blob/master/Matem%C3%A1tica_computacional.ipynb\" target=\"_parent\"><img src=\"https://colab.research.google.com/assets/colab-badge.svg\" alt=\"Open In Colab\"/></a>"
      ]
    },
    {
      "cell_type": "code",
      "metadata": {
        "colab": {
          "base_uri": "https://localhost:8080/"
        },
        "id": "eZfcSfl9LcEp",
        "outputId": "fef690e5-6830-44e8-d4e7-2e6e980c84d6"
      },
      "source": [
        "nome = [0,1,0,0, 1,1,1,0, 0,1,1,0, 1,0,1,0, 0,1,1,0, 0,0,1,1, 0,1,1,0, 1,1,1,1, 0,1,1,0, 1,1,0,0, 0,1,1,0, 1,1,0,0, 0,1,1,0, 0,1,0,1, 0,0,1,0, 0,0,0,0, 0,1,0,0,1,1,0,0]\n",
        "ru =   [0,0,1,1, 1,0,0,1, 0,1,1,1, 0,0,0,0, 1,0,0,1, 0,1,1,0, 0,0,1,1, 1,0,0,1, 0,1,1,1, 0,0,0,0, 1,0,0,1, 0,1,1,0, 0,0,1,1, 1,0,0,1, 0,1,1,1, 0,0,0,0, 1,0,0,1, 0,1,1,0]\n",
        "resultado = []\n",
        "#Cifrando\n",
        "for i in range(len(nome)):\n",
        "\n",
        "  if nome[i] != ru[i]:\n",
        "    resultado.append(0)\n",
        "  else:\n",
        "    resultado.append(1)\n",
        "\n",
        "print(resultado)\n",
        "\n",
        "#Decifrar\n",
        "txtDecifrado = []\n",
        "for z in range(len(resultado)):\n",
        "  \n",
        "    if resultado[z] != ru[z]:\n",
        "      txtDecifrado.append(0)\n",
        "    else:\n",
        "      txtDecifrado.append(1)\n",
        "\n",
        "print(txtDecifrado)\n",
        "\n",
        "\n",
        "\n"
      ],
      "execution_count": 15,
      "outputs": [
        {
          "output_type": "stream",
          "name": "stdout",
          "text": [
            "[1, 0, 0, 0, 1, 0, 0, 0, 1, 1, 1, 0, 0, 1, 0, 1, 0, 0, 0, 0, 1, 0, 1, 0, 1, 0, 1, 0, 1, 0, 0, 1, 1, 1, 1, 0, 0, 0, 1, 1, 0, 0, 0, 0, 0, 1, 0, 1, 1, 0, 1, 0, 0, 0, 1, 1, 1, 0, 1, 0, 1, 1, 1, 1, 0, 0, 1, 0, 0, 1, 0, 1]\n",
            "[0, 1, 0, 0, 1, 1, 1, 0, 0, 1, 1, 0, 1, 0, 1, 0, 0, 1, 1, 0, 0, 0, 1, 1, 0, 1, 1, 0, 1, 1, 1, 1, 0, 1, 1, 0, 1, 1, 0, 0, 0, 1, 1, 0, 1, 1, 0, 0, 0, 1, 1, 0, 0, 1, 0, 1, 0, 0, 1, 0, 0, 0, 0, 0, 0, 1, 0, 0, 1, 1, 0, 0]\n"
          ]
        }
      ]
    },
    {
      "cell_type": "code",
      "metadata": {
        "id": "55oFS8lsQm6F"
      },
      "source": [
        "\n"
      ],
      "execution_count": null,
      "outputs": []
    }
  ]
}